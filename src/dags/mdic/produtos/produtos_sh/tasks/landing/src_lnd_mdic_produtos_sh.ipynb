{
 "cells": [
  {
   "cell_type": "code",
   "execution_count": 1,
   "id": "dd50ec60",
   "metadata": {},
   "outputs": [],
   "source": [
    "import aiohttp\n",
    "import asyncio\n",
    "import os\n",
    "import json\n",
    "import logging\n",
    "from pathlib import Path\n",
    "import logging\n",
    "\n",
    "from minio import Minio\n",
    "import shutil"
   ]
  },
  {
   "cell_type": "code",
   "execution_count": 2,
   "id": "7681ecd0",
   "metadata": {
    "tags": [
     "parameters"
    ]
   },
   "outputs": [],
   "source": [
    "minio_connection = \"\"  "
   ]
  },
  {
   "cell_type": "code",
   "execution_count": 3,
   "id": "42216f90",
   "metadata": {},
   "outputs": [],
   "source": [
    "# Configuração básica de logging\n",
    "logging.basicConfig(\n",
    "    level=logging.INFO, format=\"%(asctime)s - %(levelname)s - %(message)s\"\n",
    ")\n",
    "\n",
    "logger = logging.getLogger(__name__)"
   ]
  },
  {
   "cell_type": "code",
   "execution_count": 4,
   "id": "f7401866",
   "metadata": {},
   "outputs": [],
   "source": [
    "# carregar para funcionar\n",
    "try:\n",
    "    minio_conn = json.loads(minio_connection)\n",
    "except json.JSONDecodeError:\n",
    "    with open('../variables/minio_connection.json', \"r\") as minio_connection_file:\n",
    "        minio_conn = json.loads(minio_connection_file.read())"
   ]
  },
  {
   "cell_type": "code",
   "execution_count": 5,
   "id": "8e112eba",
   "metadata": {},
   "outputs": [
    {
     "name": "stderr",
     "output_type": "stream",
     "text": [
      "2025-08-29 14:23:20,629 - INFO - Cliente MinIO criado com sucesso.\n"
     ]
    }
   ],
   "source": [
    "s3_client = None\n",
    "\n",
    "try:\n",
    "    endpoint_raw = minio_conn[\"endpoint\"]\n",
    "    access_key = minio_conn[\"access_key\"]\n",
    "    secret_key = minio_conn[\"key\"]\n",
    "\n",
    "    endpoint_sem_http = endpoint_raw.replace(\"http://\", \"\").replace(\"https://\", \"\")\n",
    "    is_secure = endpoint_raw.startswith(\"https\")\n",
    "\n",
    "    s3_client = Minio(\n",
    "        endpoint=endpoint_sem_http,\n",
    "        access_key=access_key,\n",
    "        secret_key=secret_key,\n",
    "        secure=is_secure\n",
    "    )\n",
    "\n",
    "    logging.info(\"Cliente MinIO criado com sucesso.\")\n",
    "\n",
    "except KeyError as e:\n",
    "    logging.error(f\"Erro de configuração: chave ausente - {e}\")\n",
    "except Exception as e:\n",
    "    logging.error(f\"Erro ao inicializar o cliente MinIO: {e}\")"
   ]
  },
  {
   "cell_type": "code",
   "execution_count": 6,
   "id": "361ee61a",
   "metadata": {},
   "outputs": [],
   "source": [
    "urls = [\n",
    "    \"https://balanca.economia.gov.br/balanca/bd/tabelas/NCM_SH.csv\"\n",
    "]"
   ]
  },
  {
   "cell_type": "code",
   "execution_count": 7,
   "id": "e1aff072",
   "metadata": {},
   "outputs": [],
   "source": [
    "# Controle de concorrência (None = sem limite)\n",
    "MAX_CONCURRENT_DOWNLOADS = 3\n",
    "\n",
    "sem = asyncio.Semaphore(MAX_CONCURRENT_DOWNLOADS) if MAX_CONCURRENT_DOWNLOADS else None"
   ]
  },
  {
   "cell_type": "code",
   "execution_count": 8,
   "id": "ccdecd4a",
   "metadata": {},
   "outputs": [],
   "source": [
    "bucket = \"landing\"\n",
    "caminho_destino = \"mdic/produtos_produtos_sh/\"\n",
    "download_dir = \"download\""
   ]
  },
  {
   "cell_type": "code",
   "execution_count": 9,
   "id": "22df2ce2",
   "metadata": {},
   "outputs": [],
   "source": [
    "async def _download(session: aiohttp.ClientSession, url: str, retries: int):\n",
    "    \"\"\"Baixa um arquivo com retries e tratamento de erros\"\"\"\n",
    "    for tentativa in range(1, retries + 1):\n",
    "        try:\n",
    "            timeout = aiohttp.ClientTimeout(total=600)\n",
    "            async with session.get(url, timeout=timeout) as response:\n",
    "                status = response.status\n",
    "                if status != 200:\n",
    "                    logger.error(f\"Url: {url}, Status: {status}\")\n",
    "                    return None\n",
    "\n",
    "                content_type = response.headers.get(\"Content-Type\", \"\")\n",
    "                if \"text/csv\" not in content_type and \"application/octet-stream\" not in content_type:\n",
    "                    logger.error(f\"Url: {url}, Tipo inesperado: {content_type}\")\n",
    "                    return None\n",
    "\n",
    "                content_length = response.headers.get(\"Content-Length\")\n",
    "                if content_length is None or int(content_length) == 0:\n",
    "                    logger.error(f\"Url: {url}, Tamanho indefinido ou zero\")\n",
    "                    return None\n",
    "\n",
    "                filename = url.split(\"/\")[-1]\n",
    "                path_file = os.path.join(download_dir, filename)\n",
    "                with open(path_file, \"wb\") as f:\n",
    "                    async for chunk in response.content.iter_chunked(1024*1024):\n",
    "                        f.write(chunk)\n",
    "\n",
    "                logger.info(f\"Baixado: {filename}\")\n",
    "                return filename\n",
    "\n",
    "        except Exception as e:\n",
    "            logger.warning(f\"Tentativa {tentativa}/{retries} falhou para {url}: {e}\")\n",
    "            await asyncio.sleep(5)\n",
    "    return False"
   ]
  },
  {
   "cell_type": "code",
   "execution_count": 10,
   "id": "2a031bd5",
   "metadata": {},
   "outputs": [],
   "source": [
    "async def fetch(session: aiohttp.ClientSession, url: str):\n",
    "    \"\"\"Orquestra o download com semáforo\"\"\"\n",
    "    if sem:\n",
    "        async with sem:\n",
    "            return await _download(session, url, retries=3)\n",
    "    else:\n",
    "        return await _download(session, url, retries=3)"
   ]
  },
  {
   "cell_type": "code",
   "execution_count": 11,
   "id": "24153c24",
   "metadata": {},
   "outputs": [
    {
     "name": "stderr",
     "output_type": "stream",
     "text": [
      "2025-08-29 14:23:20,692 - INFO - Iniciando downloads...\n",
      "2025-08-29 14:23:22,182 - INFO - Baixado: NCM_SH.csv\n",
      "2025-08-29 14:23:22,184 - INFO - Arquivos baixados: 1\n",
      "2025-08-29 14:23:22,260 - INFO - Arquivo enviado para MinIO: mdic/produtos_produtos_sh/NCM_SH.csv\n",
      "2025-08-29 14:23:22,265 - INFO - Pasta 'download' removida com sucesso.\n"
     ]
    }
   ],
   "source": [
    "async def main():\n",
    "    os.makedirs(download_dir, exist_ok=True)\n",
    "    logger.info(\"Iniciando downloads...\")\n",
    "\n",
    "    async with aiohttp.ClientSession() as session:\n",
    "        tasks = [fetch(session, url) for url in urls]\n",
    "        results = await asyncio.gather(*tasks)\n",
    "\n",
    "    arquivos_csv = [Path(download_dir) / r for r in results if r]\n",
    "    logger.info(f\"Arquivos baixados: {len(arquivos_csv)}\")\n",
    "\n",
    "    # Upload para MinIO\n",
    "    for arquivo in arquivos_csv:\n",
    "        caminho_relativo = arquivo.relative_to(download_dir)\n",
    "        destino = f\"{caminho_destino}{caminho_relativo.as_posix()}\"\n",
    "        s3_client.fput_object(\n",
    "            bucket_name=bucket,\n",
    "            object_name=destino,\n",
    "            file_path=str(arquivo)\n",
    "        )\n",
    "        logger.info(f\"Arquivo enviado para MinIO: {destino}\")\n",
    "\n",
    "    # Limpeza da pasta\n",
    "    try:\n",
    "        shutil.rmtree(download_dir)\n",
    "        logger.info(f\"Pasta '{download_dir}' removida com sucesso.\")\n",
    "    except Exception as e:\n",
    "        logger.error(f\"Erro ao remover pasta '{download_dir}': {e}\")\n",
    "\n",
    "await main()"
   ]
  }
 ],
 "metadata": {
  "kernelspec": {
   "display_name": "projeto-lakehouse (3.12.3)",
   "language": "python",
   "name": "python3"
  },
  "language_info": {
   "codemirror_mode": {
    "name": "ipython",
    "version": 3
   },
   "file_extension": ".py",
   "mimetype": "text/x-python",
   "name": "python",
   "nbconvert_exporter": "python",
   "pygments_lexer": "ipython3",
   "version": "3.12.3"
  }
 },
 "nbformat": 4,
 "nbformat_minor": 5
}
